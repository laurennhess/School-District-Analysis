{
 "cells": [
  {
   "cell_type": "code",
   "execution_count": null,
   "id": "beb6a1d1",
   "metadata": {},
   "outputs": [],
   "source": [
    "import pandas as pd\n",
    "\n",
    "file_to_load = \"Resources/students_complete.csv\"\n",
    "\n",
    "student_data_df = pd.read_csv(file_to_load)"
   ]
  },
  {
   "cell_type": "code",
   "execution_count": null,
   "id": "46477f3b",
   "metadata": {},
   "outputs": [],
   "source": [
    "student_data_df.head()"
   ]
  },
  {
   "cell_type": "code",
   "execution_count": null,
   "id": "939fe73f",
   "metadata": {},
   "outputs": [],
   "source": [
    "# tolist()  method\n",
    "student_names = student_data_df[\"student_name\"].tolist()\n",
    "\n",
    "student_names"
   ]
  },
  {
   "cell_type": "code",
   "execution_count": null,
   "id": "e22a1425",
   "metadata": {},
   "outputs": [],
   "source": [
    "# split() method\n",
    "name = \"Mrs. Linda Santiago\"\n",
    "\n",
    "print(name)"
   ]
  },
  {
   "cell_type": "code",
   "execution_count": null,
   "id": "046c6746",
   "metadata": {},
   "outputs": [],
   "source": [
    "name.split()"
   ]
  },
  {
   "cell_type": "code",
   "execution_count": null,
   "id": "873837f4",
   "metadata": {},
   "outputs": [],
   "source": [
    "len(name.split())"
   ]
  },
  {
   "cell_type": "code",
   "execution_count": null,
   "id": "22fefb04",
   "metadata": {},
   "outputs": [],
   "source": [
    "# using a for loop\n",
    "for name in student_names:\n",
    "    print(name.split())\n",
    "    print(len(name.split()))"
   ]
  },
  {
   "cell_type": "code",
   "execution_count": null,
   "id": "c1fd21f2",
   "metadata": {},
   "outputs": [],
   "source": [
    "# Create a new list and use it for the for loop to iterate through the list.\n",
    "students_to_fix = []\n",
    "\n",
    "# Use an if statement to check the length of the name \n",
    "# if the name is greater than or equal to \"3\", add the name to the list of students to fix\n",
    "for name in student_names:\n",
    "    if len(name.split()) >= 3:\n",
    "        students_to_fix.append(name)\n",
    "\n",
    "# get the length of the students whose names are greater than or equal to \"3\"\n",
    "len(students_to_fix)\n",
    "\n",
    "students_to_fix"
   ]
  },
  {
   "cell_type": "code",
   "execution_count": null,
   "id": "8ae3de3c",
   "metadata": {},
   "outputs": [],
   "source": [
    "# Get all the prefixes. Add the prefixes less than or equal to \"4\" to a new list\n",
    "prefixes = []\n",
    "\n",
    "for name in student_names:\n",
    "    if len(name.split()[0]) <= 4:  # split name into indicies -- [0] is the prefix \n",
    "        prefixes.append(name.split()[0])\n",
    "        \n",
    "print(prefixes)"
   ]
  },
  {
   "cell_type": "code",
   "execution_count": null,
   "id": "cd962e94",
   "metadata": {},
   "outputs": [],
   "source": [
    "# Get all the suffixes\n",
    "suffixes = []\n",
    "\n",
    "for name in students_to_fix:\n",
    "    if len(name.split()[-1]) <= 3:\n",
    "        suffixes.append(name.split()[-1])\n",
    "        \n",
    "print(suffixes)"
   ]
  },
  {
   "cell_type": "code",
   "execution_count": null,
   "id": "9807b7f2",
   "metadata": {},
   "outputs": [],
   "source": [
    "# set() method\n",
    "set(prefixes)"
   ]
  },
  {
   "cell_type": "code",
   "execution_count": null,
   "id": "1da1e7a8",
   "metadata": {},
   "outputs": [],
   "source": [
    "set(suffixes)"
   ]
  },
  {
   "cell_type": "code",
   "execution_count": null,
   "id": "eafaf9f2",
   "metadata": {},
   "outputs": [],
   "source": [
    "# strip() method\n",
    "for name in students_to_fix:\n",
    "    print(name.strip(\"Mrs.\"))\n",
    "    "
   ]
  },
  {
   "cell_type": "code",
   "execution_count": null,
   "id": "f05c865c",
   "metadata": {},
   "outputs": [],
   "source": [
    "# replace() method\n",
    "name = \"Mrs. Linda Santiago\"\n",
    "\n",
    "print(name)"
   ]
  },
  {
   "cell_type": "code",
   "execution_count": null,
   "id": "6b771295",
   "metadata": {},
   "outputs": [],
   "source": [
    "name.replace(\"Mrs.\", \"Dr.\")"
   ]
  },
  {
   "cell_type": "code",
   "execution_count": null,
   "id": "348011ff",
   "metadata": {},
   "outputs": [],
   "source": [
    "# replacing substrings \n",
    "# Add each prefix and suffix to remove to a list.\n",
    "prefixes_suffixes = [\"Dr. \", \"Mr. \",\"Ms. \", \"Mrs. \", \"Miss \", \" MD\", \" DDS\", \" DVM\", \" PhD\"]\n",
    "\n",
    "student_data_df[\"student_name\"].str.replace()\n",
    "\n",
    "for word in prefixes_suffixes:\n",
    "    student_data_df[\"student_name\"] = student_data_df[\"student_name\"].str.replace(word, \"\")"
   ]
  }
 ],
 "metadata": {
  "kernelspec": {
   "display_name": "Python 3 (ipykernel)",
   "language": "python",
   "name": "python3"
  },
  "language_info": {
   "codemirror_mode": {
    "name": "ipython",
    "version": 3
   },
   "file_extension": ".py",
   "mimetype": "text/x-python",
   "name": "python",
   "nbconvert_exporter": "python",
   "pygments_lexer": "ipython3",
   "version": "3.9.7"
  }
 },
 "nbformat": 4,
 "nbformat_minor": 5
}
